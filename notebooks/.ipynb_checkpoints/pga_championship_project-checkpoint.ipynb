{
 "cells": [
  {
   "cell_type": "markdown",
   "id": "63e74805-728b-4262-add5-d48a7341594b",
   "metadata": {},
   "source": [
    "# Notebook setup "
   ]
  },
  {
   "cell_type": "code",
   "execution_count": 306,
   "id": "a2e9547f-1a7c-445d-bc1e-43559981d180",
   "metadata": {},
   "outputs": [],
   "source": [
    "import requests\n",
    "import pandas as pd\n",
    "import numpy as np\n",
    "import json\n",
    "from bs4 import BeautifulSoup\n",
    "from selenium import webdriver\n",
    "from selenium.webdriver.common.by import By\n",
    "import re"
   ]
  },
  {
   "cell_type": "code",
   "execution_count": 305,
   "id": "896c09b8-f9b7-4147-9297-15310fcf8162",
   "metadata": {},
   "outputs": [
    {
     "name": "stdout",
     "output_type": "stream",
     "text": [
      "{'Project details': [{'Author/DA': 'Matthew Asquith'}, {'Project': 'Ironhack solo project 1 (week 3)'}, {'Subject': 'PGA Championship Golf 2024 results'}]}\n",
      "{'Data': [{'pga_champ_24': 'C:\\\\Users\\\\matth\\\\Documents\\\\Ironhack\\\\Week_3\\\\Week_3_project\\\\data\\\\pga_champ_24'}, {'pga_stats': 'C:\\\\Users\\\\matth\\\\Documents\\\\Ironhack\\\\Week_3\\\\Week_3_project\\\\data\\\\pga_stats'}, {'r1_scores': 'C:\\\\Users\\\\matth\\\\Documents\\\\Ironhack\\\\Week_3\\\\Week_3_project\\\\data\\\\r1_scores'}, {'r2_scores': 'C:\\\\Users\\\\matth\\\\Documents\\\\Ironhack\\\\Week_3\\\\Week_3_project\\\\data\\\\r2_scores'}, {'r3_scores': 'C:\\\\Users\\\\matth\\\\Documents\\\\Ironhack\\\\Week_3\\\\Week_3_project\\\\data\\\\r3_scores'}, {'r4_scores': 'C:\\\\Users\\\\matth\\\\Documents\\\\Ironhack\\\\Week_3\\\\Week_3_project\\\\data\\\\r4_scores'}, {'round_1': 'C:\\\\Users\\\\matth\\\\Documents\\\\Ironhack\\\\Week_3\\\\Week_3_project\\\\data\\\\round_1_hbh'}, {'round_2': 'C:\\\\Users\\\\matth\\\\Documents\\\\Ironhack\\\\Week_3\\\\Week_3_project\\\\data\\\\round_2_hbh'}, {'round_3': 'C:\\\\Users\\\\matth\\\\Documents\\\\Ironhack\\\\Week_3\\\\Week_3_project\\\\data\\\\round_3_hbh'}, {'round_4': 'C:\\\\Users\\\\matth\\\\Documents\\\\Ironhack\\\\Week_3\\\\Week_3_project\\\\data\\\\round_4_hbh'}]}\n"
     ]
    }
   ],
   "source": [
    "# YAML file \n",
    "import yaml\n",
    "from yaml.loader import SafeLoader\n",
    "\n",
    "# Open the file and load the file\n",
    "with open('../PGA_Championship_project.yaml') as f:\n",
    "    data = yaml.load_all(f, Loader=SafeLoader)\n",
    "    for doc in data:\n",
    "        print(doc)"
   ]
  },
  {
   "cell_type": "code",
   "execution_count": 307,
   "id": "6db920bb-b70a-418e-8c99-8b59f5ca2ab7",
   "metadata": {},
   "outputs": [],
   "source": [
    "# Load exported data\n",
    "df = pd.read_csv('../data/pga_champ_24')\n",
    "r1_scores = pd.read_csv('../data/r1_scores')\n",
    "r2_scores = pd.read_csv('../data/r2_scores')\n",
    "r3_scores = pd.read_csv('../data/r3_scores')\n",
    "r4_scores = pd.read_csv('../data/r4_scores')\n",
    "round_1 = pd.read_csv('../data/round_1_hbh')\n",
    "round_2 = pd.read_csv('../data/round_2_hbh')\n",
    "round_3 = pd.read_csv('../data/round_3_hbh')\n",
    "round_4 = pd.read_csv('../data/round_4_hbh')\n",
    "pga_stats = pd.read_csv('../data/pga_stats')"
   ]
  },
  {
   "cell_type": "markdown",
   "id": "9a9b180c-7ae0-43f1-93e1-2ff32f2b8841",
   "metadata": {},
   "source": [
    "# Get data on overall results using BeautifulSoup"
   ]
  },
  {
   "cell_type": "code",
   "execution_count": 2,
   "id": "2ba88856-7a5d-4532-abf3-f4a09eabc5ca",
   "metadata": {},
   "outputs": [
    {
     "name": "stdout",
     "output_type": "stream",
     "text": [
      "200\n"
     ]
    }
   ],
   "source": [
    "x = requests.get('https://www.pgatour.com/leaderboard/hole-by-hole')\n",
    "print(x.status_code)"
   ]
  },
  {
   "cell_type": "code",
   "execution_count": 3,
   "id": "fb3fa828-065b-45f4-a20b-6a76ffd6e5ba",
   "metadata": {},
   "outputs": [],
   "source": [
    "soup = BeautifulSoup(x.content, 'lxml')\n",
    "headers = {\n",
    "    \"User-Agent\": \"Mozilla/5.0 (X11; Ubuntu; Linux x86_64; rv:90.0) Gecko/20100101 Firefox/90.0\"\n",
    "}\n",
    "#print(soup.prettify())\n",
    "#soup.find_all('script')"
   ]
  },
  {
   "cell_type": "code",
   "execution_count": 4,
   "id": "bfddd713-bce1-4eb6-b7b8-1631a9e4c848",
   "metadata": {},
   "outputs": [],
   "source": [
    "# Convert JSON data into Python dictionary\n",
    "all_data = soup.find_all(\"script\", {\"type\": \"application/json\"})\n",
    "\n",
    "for data in all_data:\n",
    "    jsn = json.loads(data.string)\n",
    "  ##  print(json.dumps(jsn, indent=4))"
   ]
  },
  {
   "cell_type": "code",
   "execution_count": 5,
   "id": "787f8075-ad04-493d-8c4f-edca2bdd9268",
   "metadata": {},
   "outputs": [],
   "source": [
    "# Extract individual player data from dictionary \n",
    "player_dicts = jsn[\"props\"][\"pageProps\"][\"leaderboard\"][\"players\"]"
   ]
  },
  {
   "cell_type": "code",
   "execution_count": 6,
   "id": "44c1f088-f994-4bc5-ac95-ab6df6e973f6",
   "metadata": {},
   "outputs": [],
   "source": [
    "# Extract player information using list comprehension\n",
    "# Add if condition to remove cut line entry mid table\n",
    "names = [player_dicts[elem]['player']['displayName'] for elem in range(len(player_dicts)) if 'player' in player_dicts[elem]]\n",
    "countries = [player_dicts[elem]['player']['country'] for elem in range(len(player_dicts)) if 'player' in player_dicts[elem]]\n",
    "ids = [player_dicts[elem]['player']['id'] for elem in range(len(player_dicts)) if 'player' in player_dicts[elem]]\n",
    "\n",
    "# Extract scoring information using list comprehension\n",
    "positions = [player_dicts[elem]['scoringData']['position'] for elem in range(len(player_dicts)) if 'scoringData' in player_dicts[elem]]\n",
    "total_scores = [player_dicts[elem]['scoringData']['total'] for elem in range(len(player_dicts)) if 'scoringData' in player_dicts[elem]]\n",
    "rounds = [player_dicts[elem]['scoringData']['rounds'] for elem in range(len(player_dicts)) if 'scoringData' in player_dicts[elem]]\n",
    "total_strokes = [player_dicts[elem]['scoringData']['totalStrokes'] for elem in range(len(player_dicts)) if 'scoringData' in player_dicts[elem]]\n",
    "round_status = [player_dicts[elem]['scoringData']['roundStatus'] for elem in range(len(player_dicts)) if 'scoringData' in player_dicts[elem]]\n",
    "\n",
    "# Fill missing status values for players that withdrew\n",
    "round_status[-3:] = [\"Withdrew\",\"Withdrew\",\"Withdrew\"]\n",
    "\n",
    "# Extract individual round scores\n",
    "r1 = [rounds[elem][0] for elem in range(len(rounds))]\n",
    "r2 = [rounds[elem][1] for elem in range(len(rounds))]\n",
    "r3 = [rounds[elem][2] for elem in range(len(rounds))]\n",
    "r4 = [rounds[elem][3] for elem in range(len(rounds))]"
   ]
  },
  {
   "cell_type": "markdown",
   "id": "5a1f4143-cc5a-401e-b8ca-49ba58651bca",
   "metadata": {},
   "source": [
    "# Get hole-by-hole data using Selenium"
   ]
  },
  {
   "cell_type": "code",
   "execution_count": 4,
   "id": "5ad1959f-b35b-4291-8cf1-58a85b58657e",
   "metadata": {},
   "outputs": [],
   "source": [
    "driver = webdriver.Edge()\n",
    "driver.get('https://www.pgatour.com/tournaments/2024/pga-championship/R2024033/leaderboard/hole-by-hole')\n",
    "# print(\"Page title is: %s\" %(driver.title))"
   ]
  },
  {
   "cell_type": "code",
   "execution_count": 10,
   "id": "114660c5-e6c1-4e88-8098-3ddd6b0fa70f",
   "metadata": {},
   "outputs": [],
   "source": [
    "r1_holes = [driver.find_element(By.XPATH, f'//tr[@class=\"player-{elem} css-paaamq\"]').text for elem in ids]\n",
    "r1_split = pd.Series(r1_holes).apply(lambda x: x.split('\\n'))"
   ]
  },
  {
   "cell_type": "code",
   "execution_count": 11,
   "id": "e643e77f-1248-4f4e-b548-0c114648c425",
   "metadata": {},
   "outputs": [],
   "source": [
    "r2_holes = [driver.find_element(By.XPATH, f'//tr[@class=\"player-{elem} css-paaamq\"]').text for elem in ids]\n",
    "r2_split = pd.Series(r2_holes).apply(lambda x: x.split('\\n'))"
   ]
  },
  {
   "cell_type": "code",
   "execution_count": 50,
   "id": "6cfdb3a9-a10e-412c-b81f-4d74b99253d4",
   "metadata": {},
   "outputs": [],
   "source": [
    "r3_holes = [driver.find_element(By.XPATH, f'//tr[@class=\"player-{elem} css-paaamq\"]').text for elem in ids]\n",
    "r3_split = pd.Series(r3_holes).apply(lambda x: x.split('\\n'))"
   ]
  },
  {
   "cell_type": "code",
   "execution_count": 191,
   "id": "a5fb4193-53bc-4a94-a21c-f0d535d46822",
   "metadata": {},
   "outputs": [],
   "source": [
    "r4_holes = [driver.find_element(By.XPATH, f'//tr[@class=\"player-{elem} css-paaamq\"]').text for elem in ids]\n",
    "r4_split = pd.Series(r4_holes).apply(lambda x: x.split('\\n'))"
   ]
  },
  {
   "cell_type": "code",
   "execution_count": 130,
   "id": "b1a2a075-7d08-44f9-8a0e-130e5f0bfb6a",
   "metadata": {},
   "outputs": [],
   "source": [
    "par_str = driver.find_elements(By.XPATH, '//span[@class=\"css-p11w71\"]')\n",
    "# par_scores = pd.Series(par_str).apply(lambda x: x.split('\\n'))\n",
    "holes_pars = []\n",
    "for elem in par_str:\n",
    "    i = elem.text\n",
    "    holes_pars.append(i)"
   ]
  },
  {
   "cell_type": "code",
   "execution_count": 280,
   "id": "9bf2fd3b-e2ff-4f31-9c29-50f5903e680d",
   "metadata": {},
   "outputs": [],
   "source": [
    "driver.quit()"
   ]
  },
  {
   "cell_type": "code",
   "execution_count": 23,
   "id": "8ca561fd-d345-477c-8cc0-b9f4f8427a0c",
   "metadata": {},
   "outputs": [],
   "source": [
    "holes_pars = [4,4,3,4,4,4,5,3,4,5,3,4,4,3,4,4,4,5]"
   ]
  },
  {
   "cell_type": "code",
   "execution_count": 204,
   "id": "de2f48b6-0dbf-4253-8ee0-6bc6fc1dff51",
   "metadata": {},
   "outputs": [
    {
     "data": {
      "text/plain": [
       "0    Xander Schauffele\n",
       "1    Bryson DeChambeau\n",
       "2       Viktor Hovland\n",
       "3         Thomas Detry\n",
       "4      Collin Morikawa\n",
       "5          Justin Rose\n",
       "6          Shane Lowry\n",
       "7       Billy Horschel\n",
       "8    Scottie Scheffler\n",
       "9        Justin Thomas\n",
       "Name: Name, dtype: object"
      ]
     },
     "execution_count": 204,
     "metadata": {},
     "output_type": "execute_result"
    }
   ],
   "source": [
    "top_10_names"
   ]
  },
  {
   "cell_type": "markdown",
   "id": "36085e79-7c2c-444b-a34a-42f001a27d65",
   "metadata": {},
   "source": [
    "# Get round 6 data for top 10 players"
   ]
  },
  {
   "cell_type": "code",
   "execution_count": 206,
   "id": "2711f18b-e6ee-4613-a393-7552a056dae4",
   "metadata": {},
   "outputs": [],
   "source": [
    "r1_6 = round_1['6'].iloc[0:10]\n",
    "r2_6 = round_2['6'].iloc[0:10]\n",
    "r3_6 = round_3['6'].iloc[0:10]\n",
    "r4_6 = round_4['6'].iloc[0:10]"
   ]
  },
  {
   "cell_type": "code",
   "execution_count": 208,
   "id": "b6e95afd-d129-4746-9929-56cbafe729aa",
   "metadata": {},
   "outputs": [],
   "source": [
    "hole_6 = pd.concat([top_10_names,r1_6,r2_6,r3_6,r4_6], axis = 1)"
   ]
  },
  {
   "cell_type": "code",
   "execution_count": 243,
   "id": "a516c2eb-746d-4ecb-a5a9-95d0a1a9b5a1",
   "metadata": {},
   "outputs": [
    {
     "data": {
      "text/html": [
       "<div>\n",
       "<style scoped>\n",
       "    .dataframe tbody tr th:only-of-type {\n",
       "        vertical-align: middle;\n",
       "    }\n",
       "\n",
       "    .dataframe tbody tr th {\n",
       "        vertical-align: top;\n",
       "    }\n",
       "\n",
       "    .dataframe thead th {\n",
       "        text-align: right;\n",
       "    }\n",
       "</style>\n",
       "<table border=\"1\" class=\"dataframe\">\n",
       "  <thead>\n",
       "    <tr style=\"text-align: right;\">\n",
       "      <th></th>\n",
       "      <th>Name</th>\n",
       "      <th>6</th>\n",
       "      <th>6</th>\n",
       "      <th>6</th>\n",
       "      <th>6</th>\n",
       "    </tr>\n",
       "  </thead>\n",
       "  <tbody>\n",
       "    <tr>\n",
       "      <th>0</th>\n",
       "      <td>Xander Schauffele</td>\n",
       "      <td>4</td>\n",
       "      <td>4</td>\n",
       "      <td>4</td>\n",
       "      <td>4</td>\n",
       "    </tr>\n",
       "    <tr>\n",
       "      <th>1</th>\n",
       "      <td>Bryson DeChambeau</td>\n",
       "      <td>4</td>\n",
       "      <td>4</td>\n",
       "      <td>4</td>\n",
       "      <td>4</td>\n",
       "    </tr>\n",
       "    <tr>\n",
       "      <th>2</th>\n",
       "      <td>Viktor Hovland</td>\n",
       "      <td>4</td>\n",
       "      <td>4</td>\n",
       "      <td>5</td>\n",
       "      <td>3</td>\n",
       "    </tr>\n",
       "    <tr>\n",
       "      <th>3</th>\n",
       "      <td>Thomas Detry</td>\n",
       "      <td>4</td>\n",
       "      <td>3</td>\n",
       "      <td>4</td>\n",
       "      <td>3</td>\n",
       "    </tr>\n",
       "    <tr>\n",
       "      <th>4</th>\n",
       "      <td>Collin Morikawa</td>\n",
       "      <td>4</td>\n",
       "      <td>4</td>\n",
       "      <td>5</td>\n",
       "      <td>4</td>\n",
       "    </tr>\n",
       "    <tr>\n",
       "      <th>5</th>\n",
       "      <td>Justin Rose</td>\n",
       "      <td>3</td>\n",
       "      <td>3</td>\n",
       "      <td>4</td>\n",
       "      <td>4</td>\n",
       "    </tr>\n",
       "    <tr>\n",
       "      <th>6</th>\n",
       "      <td>Shane Lowry</td>\n",
       "      <td>4</td>\n",
       "      <td>4</td>\n",
       "      <td>4</td>\n",
       "      <td>5</td>\n",
       "    </tr>\n",
       "    <tr>\n",
       "      <th>7</th>\n",
       "      <td>Billy Horschel</td>\n",
       "      <td>4</td>\n",
       "      <td>4</td>\n",
       "      <td>4</td>\n",
       "      <td>4</td>\n",
       "    </tr>\n",
       "    <tr>\n",
       "      <th>8</th>\n",
       "      <td>Scottie Scheffler</td>\n",
       "      <td>4</td>\n",
       "      <td>4</td>\n",
       "      <td>4</td>\n",
       "      <td>4</td>\n",
       "    </tr>\n",
       "    <tr>\n",
       "      <th>9</th>\n",
       "      <td>Justin Thomas</td>\n",
       "      <td>4</td>\n",
       "      <td>4</td>\n",
       "      <td>4</td>\n",
       "      <td>4</td>\n",
       "    </tr>\n",
       "  </tbody>\n",
       "</table>\n",
       "</div>"
      ],
      "text/plain": [
       "                Name  6  6  6  6\n",
       "0  Xander Schauffele  4  4  4  4\n",
       "1  Bryson DeChambeau  4  4  4  4\n",
       "2     Viktor Hovland  4  4  5  3\n",
       "3       Thomas Detry  4  3  4  3\n",
       "4    Collin Morikawa  4  4  5  4\n",
       "5        Justin Rose  3  3  4  4\n",
       "6        Shane Lowry  4  4  4  5\n",
       "7     Billy Horschel  4  4  4  4\n",
       "8  Scottie Scheffler  4  4  4  4\n",
       "9      Justin Thomas  4  4  4  4"
      ]
     },
     "execution_count": 243,
     "metadata": {},
     "output_type": "execute_result"
    }
   ],
   "source": [
    "hole_6"
   ]
  },
  {
   "cell_type": "code",
   "execution_count": 282,
   "id": "e0318b5d-18be-476c-86cf-35e1d77ebbe2",
   "metadata": {},
   "outputs": [],
   "source": [
    "temp_list = []\n",
    "for elem in round_1['6']:\n",
    "    a = int(elem)\n",
    "    temp_list.append(a)\n",
    "r1_6_mean = sum(temp_list)/len(temp_list)"
   ]
  },
  {
   "cell_type": "code",
   "execution_count": 283,
   "id": "38887cb9-13c0-45fc-a2bd-8930e3830bfb",
   "metadata": {},
   "outputs": [],
   "source": [
    "temp_list = []\n",
    "for elem in round_2['6']:\n",
    "    if elem != '-':\n",
    "        a = int(elem)\n",
    "        temp_list.append(a)\n",
    "r2_6_mean = sum(temp_list)/len(temp_list)"
   ]
  },
  {
   "cell_type": "code",
   "execution_count": 284,
   "id": "2fceb440-279a-4f0b-b738-a9b593673b6a",
   "metadata": {},
   "outputs": [],
   "source": [
    "temp_list = []\n",
    "for elem in round_3['6']:\n",
    "    if elem != '-':\n",
    "            a = int(elem)\n",
    "            temp_list.append(a)\n",
    "r3_6_mean = sum(temp_list)/len(temp_list)"
   ]
  },
  {
   "cell_type": "code",
   "execution_count": 285,
   "id": "c6ec72ec-83d2-4d71-bc3b-d9cb4bfa04ef",
   "metadata": {},
   "outputs": [],
   "source": [
    "temp_list = []\n",
    "for elem in round_4['6']:\n",
    "    if elem != '-':\n",
    "            a = int(elem)\n",
    "            temp_list.append(a)\n",
    "r4_6_mean = sum(temp_list)/len(temp_list)"
   ]
  },
  {
   "cell_type": "code",
   "execution_count": 218,
   "id": "5e4a37bc-56a2-4316-a83e-68dd6a9dc2b6",
   "metadata": {},
   "outputs": [
    {
     "data": {
      "text/plain": [
       "0      4\n",
       "1      4\n",
       "2      4\n",
       "3      4\n",
       "4      4\n",
       "      ..\n",
       "152    6\n",
       "153    4\n",
       "154    5\n",
       "155    4\n",
       "156    5\n",
       "Name: 6, Length: 157, dtype: int64"
      ]
     },
     "execution_count": 218,
     "metadata": {},
     "output_type": "execute_result"
    }
   ],
   "source": [
    "round_1['6']"
   ]
  },
  {
   "cell_type": "code",
   "execution_count": 229,
   "id": "4a2e4b08-8dd4-4f98-ad3c-659bc9c256ed",
   "metadata": {},
   "outputs": [],
   "source": [
    "hole_6_means = [\"AVERAGE\",r1_6_mean,r2_6_mean,r3_6_mean,r4_6_mean]\n",
    "sh6 = pd.Series(hole_6_means)"
   ]
  },
  {
   "cell_type": "code",
   "execution_count": 47,
   "id": "fa7d5b8d-3fc3-4ebc-a292-cc123fea43f3",
   "metadata": {},
   "outputs": [],
   "source": [
    "r1_scores.columns = range(1,19)\n",
    "r2_scores.columns = range(1,19)\n",
    "r3_scores.columns = range(1,19)\n",
    "r4_scores.columns = range(1,19)\n",
    "r1_df = pd.concat([df['Name'],r1_scores], axis = 1)\n",
    "r2_df = pd.concat([df['Name'],r2_scores], axis = 1)\n",
    "r3_df = pd.concat([df['Name'],r3_scores], axis = 1)\n",
    "r4_df = pd.concat([df['Name'],r4_scores], axis = 1)"
   ]
  },
  {
   "cell_type": "code",
   "execution_count": 287,
   "id": "6605e0e2-a6cf-4ed0-87fe-19ecca101edf",
   "metadata": {},
   "outputs": [],
   "source": [
    "r1_6_int = pd.to_numeric(round_1['6'], errors = 'coerce')\n",
    "r2_6_int = pd.to_numeric(round_2['6'], errors = 'coerce')\n",
    "r3_6_int = pd.to_numeric(round_3['6'], errors = 'coerce')\n",
    "r4_6_int = pd.to_numeric(round_4['6'], errors = 'coerce')"
   ]
  },
  {
   "cell_type": "code",
   "execution_count": 288,
   "id": "3ad06884-d155-48d0-80e9-bf77317937f8",
   "metadata": {},
   "outputs": [
    {
     "data": {
      "text/plain": [
       "4.012658227848101"
      ]
     },
     "execution_count": 288,
     "metadata": {},
     "output_type": "execute_result"
    }
   ],
   "source": [
    "# Calucate mean scores on hole 6\n",
    "r1_6_int.mean()\n",
    "r2_6_int.mean()\n",
    "r3_6_int.mean()\n",
    "r4_6_int.mean()"
   ]
  },
  {
   "cell_type": "code",
   "execution_count": 13,
   "id": "9bdfba7d-6a3d-44b8-8d67-445882f36870",
   "metadata": {},
   "outputs": [
    {
     "name": "stdout",
     "output_type": "stream",
     "text": [
      "['3', '4', '3', '3', '4', '4', '4', '3', '3'] ['2', '3', '4', '3', '4', '4', '4', '4']\n"
     ]
    }
   ],
   "source": [
    "print(r4_split[0][3:12],r4_split[0][14:22])"
   ]
  },
  {
   "cell_type": "code",
   "execution_count": 200,
   "id": "d50e367b-ce92-47f0-9f84-555a51021225",
   "metadata": {},
   "outputs": [],
   "source": [
    "r1_scores = [r1_split[elem][3:12]+r1_split[elem][13:22] for elem in range(len(r4_split))] \n",
    "r2_scores = [r2_split[elem][3:12]+r2_split[elem][13:22] for elem in range(len(r4_split))] \n",
    "r3_scores = [r3_split[elem][3:12]+r3_split[elem][13:22] for elem in range(len(r4_split))] \n",
    "r4_scores = [r4_split[elem][3:12]+r4_split[elem][13:22] for elem in range(len(r4_split))] \n"
   ]
  },
  {
   "cell_type": "code",
   "execution_count": 289,
   "id": "45256ed3-d0c7-4b86-b690-067862961d2a",
   "metadata": {},
   "outputs": [],
   "source": [
    "# Calculate par and compare scores to par scores to retrieve par/birdie/eagle tallies\n",
    "par_fills = [\"Par\",\" \"]\n",
    "par_scores = pd.Series(par_fills + holes_pars[21:30] + holes_pars[31:40])\n",
    "par = holes_pars[21:30] + holes_pars[31:40]"
   ]
  },
  {
   "cell_type": "code",
   "execution_count": 247,
   "id": "6e343d6b-b4a6-496c-bbb5-98a1b5ab6d0a",
   "metadata": {},
   "outputs": [],
   "source": [
    "# Subtract par score from player scores and add to new list\n",
    "r1_minus_par = []\n",
    "r1_minus_par = [r1_scores_int[elem] - s_par for elem in range(len(r1_scores))]\n",
    "r2_minus_par = []\n",
    "r2_minus_par = [r2_scores_int[elem] - s_par if '-' not in r2_scores_int[elem] else '-' for elem in range(len(r2_scores))]\n",
    "r3_minus_par = []\n",
    "r3_minus_par = [r3_scores_int[elem] - s_par if '-' not in r3_scores_int[elem] else '-' for elem in range(len(r3_scores))]\n",
    "r4_minus_par = []\n",
    "r4_minus_par = [r4_scores_int[elem] - s_par if '-' not in r4_scores_int[elem] else '-' for elem in range(len(r4_scores))]"
   ]
  },
  {
   "cell_type": "code",
   "execution_count": 254,
   "id": "bebf78bc-3bb4-4af9-bf36-bee15c511c48",
   "metadata": {},
   "outputs": [],
   "source": [
    "# Save data into txt files\n",
    "# np.savetxt(\"r1_scores\", r1_scores, delimiter =\", \", fmt ='% s')\n",
    "# np.savetxt(\"r2_scores\", r2_scores, delimiter =\", \", fmt ='% s')\n",
    "# np.savetxt(\"r3_scores\", r3_scores, delimiter =\", \", fmt ='% s')\n",
    "# np.savetxt(\"r4_scores\", r4_scores, delimiter =\", \", fmt ='% s')"
   ]
  },
  {
   "cell_type": "code",
   "execution_count": 294,
   "id": "ba052465-a49a-4874-8689-e32529bcdad1",
   "metadata": {},
   "outputs": [],
   "source": [
    "# Function to calculate par scores for each round\n",
    "\n",
    "def pars_calculator(scores, par_scores, names, masterdf):\n",
    "    q = 0\n",
    "    nets = range(-3, 4, 1)\n",
    "    par_dict = {}\n",
    "    for elem in range(155):\n",
    "        # Check if any scores contain hyphens\n",
    "        if any(scores.loc[q].str.contains(\"-\")):\n",
    "            par_dict[names[q]] = \"-\"\n",
    "        else:\n",
    "            # Convert relevant columns to numeric\n",
    "            scores_numeric = scores.loc[q].apply(pd.to_numeric, errors=\"coerce\")\n",
    "            net_scores = scores_numeric - par_scores\n",
    "            net_dict = net_scores.value_counts().to_dict()\n",
    "            par_dict[names[q]] = net_dict\n",
    "        q += 1\n",
    "\n",
    "    df = pd.DataFrame.from_dict(par_dict, orient='index', columns=nets)\n",
    "    df = df.fillna(\"-\")\n",
    "    df = df.set_index('Name')\n",
    "    df = df.reindex(index=masterdf['Name'])\n",
    "    df = df.reset_index()\n",
    "    return df"
   ]
  },
  {
   "cell_type": "code",
   "execution_count": 296,
   "id": "8112fa8a-a39a-4e3b-991d-2ca8e9dd98e8",
   "metadata": {},
   "outputs": [],
   "source": [
    "# r1_net = pars_calculator(r1_scores,holes_par,df['Name'])\n",
    "# r2_net = pars_calculator(r2_scores,holes_par,df['Name'],df)\n",
    "# r3_net = pars_calculator(r3_scores,holes_par,df['Name'])\n",
    "# r4_net = pars_calculator(r4_scores,holes_par,df['Name'])\n"
   ]
  },
  {
   "cell_type": "markdown",
   "id": "7bb8260a-a5d0-4783-b640-220cd5beb1bb",
   "metadata": {},
   "source": [
    "# Get Top 10 stats using Selenium"
   ]
  },
  {
   "cell_type": "code",
   "execution_count": 186,
   "id": "1b2c78ae-549b-46b4-ba37-60db6c6b6160",
   "metadata": {},
   "outputs": [],
   "source": [
    "driver = webdriver.Edge()\n",
    "driver.get('https://www.pgatour.com/tournaments/2024/pga-championship/R2024033/leaderboard/hole-by-hole')"
   ]
  },
  {
   "cell_type": "code",
   "execution_count": 64,
   "id": "44b58ea2-b71d-4816-a1aa-d81d05708cd9",
   "metadata": {},
   "outputs": [],
   "source": [
    "stats = driver.find_elements(By.XPATH, '//div[@class=\"css-1b6nfy8\"]//span[@class=\"chakra-text css-llafun\"]')"
   ]
  },
  {
   "cell_type": "code",
   "execution_count": 76,
   "id": "88db3d35-994a-4c61-8885-bd8d8daf4b5c",
   "metadata": {},
   "outputs": [],
   "source": [
    "stats_list = []\n",
    "temp_list = []\n",
    "\n",
    "for elem in stats:\n",
    "    i = elem.text\n",
    "    if i != '':\n",
    "        if len(temp_list) == 13:  # If the current list has 13 values\n",
    "            stats_list.append(temp_list)  # Add the current list to stats_list\n",
    "            temp_list = []  # Start a new list\n",
    "            if re.match(r\"^\\d+\\.\\d{3}$\", i):  # If a number with 3 decimal places is encountered and temp_list is not empty\n",
    "                temp_list.append(i)  # Add the current list to stats_list\n",
    "        elif len(temp_list) == 0 and not re.match(r\"^\\d+\\.\\d{3}$\", i):\n",
    "            continue\n",
    "        else:\n",
    "            temp_list.append(i)  # Add the current value to the current list\n",
    "\n",
    "# If there are any remaining elements in temp_list after the loop\n",
    "if temp_list:\n",
    "    stats_list.append(temp_list)\n",
    "# Populate values in dictionary of top 10 stats one by one per Selenium scraping\n",
    "dict_individual = dict(map(lambda i,j : (i,j) , stat_name,stats_list))\n",
    "stat_individual[top_10_names[len(stat_individual)]] = dict_individual"
   ]
  },
  {
   "cell_type": "code",
   "execution_count": 185,
   "id": "374184fe-46af-44ff-a5da-d76a93a67b06",
   "metadata": {},
   "outputs": [
    {
     "data": {
      "text/html": [
       "<div>\n",
       "<style scoped>\n",
       "    .dataframe tbody tr th:only-of-type {\n",
       "        vertical-align: middle;\n",
       "    }\n",
       "\n",
       "    .dataframe tbody tr th {\n",
       "        vertical-align: top;\n",
       "    }\n",
       "\n",
       "    .dataframe thead th {\n",
       "        text-align: right;\n",
       "    }\n",
       "</style>\n",
       "<table border=\"1\" class=\"dataframe\">\n",
       "  <thead>\n",
       "    <tr style=\"text-align: right;\">\n",
       "      <th></th>\n",
       "      <th>Unnamed: 0</th>\n",
       "      <th>Name</th>\n",
       "      <th>SG: Off The Tee</th>\n",
       "      <th>SG: Approach to Green</th>\n",
       "      <th>SG: Around The Green</th>\n",
       "      <th>SG: Putting</th>\n",
       "      <th>SG: Total</th>\n",
       "      <th>Driving Accuracy</th>\n",
       "      <th>Driving Distance</th>\n",
       "      <th>Longest Drive</th>\n",
       "      <th>Greens in Regulation</th>\n",
       "      <th>Sand Saves</th>\n",
       "      <th>Scrambling</th>\n",
       "      <th>Putts per GIR</th>\n",
       "      <th>Feet of Putts Made</th>\n",
       "    </tr>\n",
       "  </thead>\n",
       "  <tbody>\n",
       "    <tr>\n",
       "      <th>0</th>\n",
       "      <td>0</td>\n",
       "      <td>Xander Schauffele</td>\n",
       "      <td>5.227</td>\n",
       "      <td>7.811</td>\n",
       "      <td>0.424</td>\n",
       "      <td>4.704</td>\n",
       "      <td>18.165</td>\n",
       "      <td>73.21% (41/56)</td>\n",
       "      <td>310.10 yds</td>\n",
       "      <td>330.00 yds</td>\n",
       "      <td>83.33% (60/72)</td>\n",
       "      <td>100.00% (5/5)</td>\n",
       "      <td>83.33% (10/12)</td>\n",
       "      <td>1.63</td>\n",
       "      <td>95.0</td>\n",
       "    </tr>\n",
       "    <tr>\n",
       "      <th>1</th>\n",
       "      <td>1</td>\n",
       "      <td>Bryson DeChambeau</td>\n",
       "      <td>5.890</td>\n",
       "      <td>2.261</td>\n",
       "      <td>5.006</td>\n",
       "      <td>4.009</td>\n",
       "      <td>17.165</td>\n",
       "      <td>62.50% (35/56)</td>\n",
       "      <td>330.50 yds</td>\n",
       "      <td>360.00 yds</td>\n",
       "      <td>72.22% (52/72)</td>\n",
       "      <td>100.00% (6/6)</td>\n",
       "      <td>90.00% (18/20)</td>\n",
       "      <td>1.64</td>\n",
       "      <td>72.0</td>\n",
       "    </tr>\n",
       "    <tr>\n",
       "      <th>2</th>\n",
       "      <td>2</td>\n",
       "      <td>Viktor Hovland</td>\n",
       "      <td>4.575</td>\n",
       "      <td>6.522</td>\n",
       "      <td>1.468</td>\n",
       "      <td>2.601</td>\n",
       "      <td>15.165</td>\n",
       "      <td>67.86% (38/56)</td>\n",
       "      <td>303.30 yds</td>\n",
       "      <td>328.00 yds</td>\n",
       "      <td>77.78% (56/72)</td>\n",
       "      <td>66.67% (6/9)</td>\n",
       "      <td>81.25% (13/16)</td>\n",
       "      <td>1.64</td>\n",
       "      <td>88.0</td>\n",
       "    </tr>\n",
       "    <tr>\n",
       "      <th>3</th>\n",
       "      <td>3</td>\n",
       "      <td>Thomas Detry</td>\n",
       "      <td>1.361</td>\n",
       "      <td>0.703</td>\n",
       "      <td>5.989</td>\n",
       "      <td>4.113</td>\n",
       "      <td>12.165</td>\n",
       "      <td>66.07% (37/56)</td>\n",
       "      <td>305.80 yds</td>\n",
       "      <td>329.00 yds</td>\n",
       "      <td>65.28% (47/72)</td>\n",
       "      <td>83.33% (10/12)</td>\n",
       "      <td>84.00% (21/25)</td>\n",
       "      <td>1.64</td>\n",
       "      <td>78.0</td>\n",
       "    </tr>\n",
       "    <tr>\n",
       "      <th>4</th>\n",
       "      <td>4</td>\n",
       "      <td>Collin Morikawa</td>\n",
       "      <td>3.674</td>\n",
       "      <td>3.177</td>\n",
       "      <td>6.078</td>\n",
       "      <td>-0.763</td>\n",
       "      <td>12.165</td>\n",
       "      <td>78.57% (44/56)</td>\n",
       "      <td>294.10 yds</td>\n",
       "      <td>328.00 yds</td>\n",
       "      <td>70.83% (51/72)</td>\n",
       "      <td>50.00% (3/6)</td>\n",
       "      <td>80.95% (17/21)</td>\n",
       "      <td>1.71</td>\n",
       "      <td>70.0</td>\n",
       "    </tr>\n",
       "    <tr>\n",
       "      <th>5</th>\n",
       "      <td>5</td>\n",
       "      <td>Justin Rose</td>\n",
       "      <td>1.772</td>\n",
       "      <td>2.483</td>\n",
       "      <td>-0.702</td>\n",
       "      <td>7.613</td>\n",
       "      <td>11.165</td>\n",
       "      <td>73.21% (41/56)</td>\n",
       "      <td>300.40 yds</td>\n",
       "      <td>318.00 yds</td>\n",
       "      <td>65.28% (47/72)</td>\n",
       "      <td>100.00% (4/4)</td>\n",
       "      <td>72.00% (18/25)</td>\n",
       "      <td>1.64</td>\n",
       "      <td>99.0</td>\n",
       "    </tr>\n",
       "    <tr>\n",
       "      <th>6</th>\n",
       "      <td>6</td>\n",
       "      <td>Shane Lowry</td>\n",
       "      <td>2.414</td>\n",
       "      <td>-1.683</td>\n",
       "      <td>1.277</td>\n",
       "      <td>9.158</td>\n",
       "      <td>11.165</td>\n",
       "      <td>69.64% (39/56)</td>\n",
       "      <td>303.90 yds</td>\n",
       "      <td>325.00 yds</td>\n",
       "      <td>68.06% (49/72)</td>\n",
       "      <td>66.67% (6/9)</td>\n",
       "      <td>82.61% (19/23)</td>\n",
       "      <td>1.65</td>\n",
       "      <td>114.0</td>\n",
       "    </tr>\n",
       "    <tr>\n",
       "      <th>7</th>\n",
       "      <td>7</td>\n",
       "      <td>Billy Horschel</td>\n",
       "      <td>3.132</td>\n",
       "      <td>0.821</td>\n",
       "      <td>6.643</td>\n",
       "      <td>10.165</td>\n",
       "      <td>67.86% (38/56)</td>\n",
       "      <td>295.20 yds</td>\n",
       "      <td>323.00 yds</td>\n",
       "      <td>70.83% (51/72)</td>\n",
       "      <td>83.33% (5/6)</td>\n",
       "      <td>76.19% (16/21)</td>\n",
       "      <td>1.69</td>\n",
       "      <td>101.00</td>\n",
       "      <td>1.0</td>\n",
       "    </tr>\n",
       "    <tr>\n",
       "      <th>8</th>\n",
       "      <td>8</td>\n",
       "      <td>Scottie Scheffler</td>\n",
       "      <td>3.584</td>\n",
       "      <td>6.618</td>\n",
       "      <td>0.061</td>\n",
       "      <td>-0.097</td>\n",
       "      <td>10.165</td>\n",
       "      <td>71.43% (40/56)</td>\n",
       "      <td>306.60 yds</td>\n",
       "      <td>331.00 yds</td>\n",
       "      <td>72.22% (52/72)</td>\n",
       "      <td>62.50% (5/8)</td>\n",
       "      <td>65.00% (13/20)</td>\n",
       "      <td>1.64</td>\n",
       "      <td>75.0</td>\n",
       "    </tr>\n",
       "    <tr>\n",
       "      <th>9</th>\n",
       "      <td>9</td>\n",
       "      <td>Justin Thomas</td>\n",
       "      <td>4.286</td>\n",
       "      <td>4.126</td>\n",
       "      <td>5.203</td>\n",
       "      <td>-3.449</td>\n",
       "      <td>10.165</td>\n",
       "      <td>60.71% (34/56)</td>\n",
       "      <td>310.20 yds</td>\n",
       "      <td>327.00 yds</td>\n",
       "      <td>79.17% (57/72)</td>\n",
       "      <td>50.00% (2/4)</td>\n",
       "      <td>73.33% (11/15)</td>\n",
       "      <td>1.83</td>\n",
       "      <td>65.0</td>\n",
       "    </tr>\n",
       "  </tbody>\n",
       "</table>\n",
       "</div>"
      ],
      "text/plain": [
       "   Unnamed: 0               Name  SG: Off The Tee  SG: Approach to Green  \\\n",
       "0           0  Xander Schauffele            5.227                  7.811   \n",
       "1           1  Bryson DeChambeau            5.890                  2.261   \n",
       "2           2     Viktor Hovland            4.575                  6.522   \n",
       "3           3       Thomas Detry            1.361                  0.703   \n",
       "4           4    Collin Morikawa            3.674                  3.177   \n",
       "5           5        Justin Rose            1.772                  2.483   \n",
       "6           6        Shane Lowry            2.414                 -1.683   \n",
       "7           7     Billy Horschel            3.132                  0.821   \n",
       "8           8  Scottie Scheffler            3.584                  6.618   \n",
       "9           9      Justin Thomas            4.286                  4.126   \n",
       "\n",
       "   SG: Around The Green  SG: Putting       SG: Total Driving Accuracy  \\\n",
       "0                 0.424        4.704          18.165   73.21% (41/56)   \n",
       "1                 5.006        4.009          17.165   62.50% (35/56)   \n",
       "2                 1.468        2.601          15.165   67.86% (38/56)   \n",
       "3                 5.989        4.113          12.165   66.07% (37/56)   \n",
       "4                 6.078       -0.763          12.165   78.57% (44/56)   \n",
       "5                -0.702        7.613          11.165   73.21% (41/56)   \n",
       "6                 1.277        9.158          11.165   69.64% (39/56)   \n",
       "7                 6.643       10.165  67.86% (38/56)       295.20 yds   \n",
       "8                 0.061       -0.097          10.165   71.43% (40/56)   \n",
       "9                 5.203       -3.449          10.165   60.71% (34/56)   \n",
       "\n",
       "  Driving Distance   Longest Drive Greens in Regulation      Sand Saves  \\\n",
       "0       310.10 yds      330.00 yds       83.33% (60/72)   100.00% (5/5)   \n",
       "1       330.50 yds      360.00 yds       72.22% (52/72)   100.00% (6/6)   \n",
       "2       303.30 yds      328.00 yds       77.78% (56/72)    66.67% (6/9)   \n",
       "3       305.80 yds      329.00 yds       65.28% (47/72)  83.33% (10/12)   \n",
       "4       294.10 yds      328.00 yds       70.83% (51/72)    50.00% (3/6)   \n",
       "5       300.40 yds      318.00 yds       65.28% (47/72)   100.00% (4/4)   \n",
       "6       303.90 yds      325.00 yds       68.06% (49/72)    66.67% (6/9)   \n",
       "7       323.00 yds  70.83% (51/72)         83.33% (5/6)  76.19% (16/21)   \n",
       "8       306.60 yds      331.00 yds       72.22% (52/72)    62.50% (5/8)   \n",
       "9       310.20 yds      327.00 yds       79.17% (57/72)    50.00% (2/4)   \n",
       "\n",
       "       Scrambling  Putts per GIR  Feet of Putts Made  \n",
       "0  83.33% (10/12)           1.63                95.0  \n",
       "1  90.00% (18/20)           1.64                72.0  \n",
       "2  81.25% (13/16)           1.64                88.0  \n",
       "3  84.00% (21/25)           1.64                78.0  \n",
       "4  80.95% (17/21)           1.71                70.0  \n",
       "5  72.00% (18/25)           1.64                99.0  \n",
       "6  82.61% (19/23)           1.65               114.0  \n",
       "7            1.69         101.00                 1.0  \n",
       "8  65.00% (13/20)           1.64                75.0  \n",
       "9  73.33% (11/15)           1.83                65.0  "
      ]
     },
     "execution_count": 185,
     "metadata": {},
     "output_type": "execute_result"
    }
   ],
   "source": [
    "pga_stats"
   ]
  },
  {
   "cell_type": "code",
   "execution_count": 20,
   "id": "9dd19456-0de6-4f7b-9e2a-449ed607bddd",
   "metadata": {},
   "outputs": [],
   "source": [
    "stats_name = driver.find_elements(By.XPATH, '//span[@class=\"chakra-text css-6vsfej\"]')"
   ]
  },
  {
   "cell_type": "code",
   "execution_count": 34,
   "id": "1144b824-c11c-4603-8c10-61f844a1f99a",
   "metadata": {},
   "outputs": [],
   "source": [
    "stat_name = []\n",
    "for elem in stats_name[0:17]:\n",
    "    i = elem.text\n",
    "    stat_name.append(i)"
   ]
  },
  {
   "cell_type": "code",
   "execution_count": 94,
   "id": "da1fce88-44f4-4853-ab53-14a3fa07c939",
   "metadata": {},
   "outputs": [],
   "source": [
    "# Convert the dictionary to a DataFrame\n",
    "df_stats = pd.DataFrame.from_dict(final_dict, orient='index', columns=stat_name_col1)\n",
    "\n",
    "# If you want the names to be a column instead of the index\n",
    "df_stats.reset_index(inplace=True)\n",
    "df_stats.rename(columns={'index': 'Name'}, inplace=True)"
   ]
  },
  {
   "cell_type": "code",
   "execution_count": 97,
   "id": "cf8998c9-2b8f-4a73-97e5-fa9ba6db119c",
   "metadata": {},
   "outputs": [],
   "source": [
    "# df_stats.to_csv('pga_stats')"
   ]
  },
  {
   "cell_type": "code",
   "execution_count": 298,
   "id": "4023e785-abe4-4d3d-b236-a34727d750ba",
   "metadata": {},
   "outputs": [],
   "source": [
    "top_10_names = df['Name'][0:10]\n",
    "top_10_stats = {}"
   ]
  },
  {
   "cell_type": "markdown",
   "id": "ed6b2c40-4310-4be3-a6f9-be181ab9b4a9",
   "metadata": {},
   "source": [
    "# Create master df"
   ]
  },
  {
   "cell_type": "code",
   "execution_count": 250,
   "id": "678ee36b-5ee9-4e27-b907-e7cac365a19c",
   "metadata": {},
   "outputs": [],
   "source": [
    "# Create principal df using dictionary\n",
    "pga_dict = {'Name': names, 'Country': countries, 'Position': positions, 'Total score': total_scores, 'R1': r1, 'R2': r2, 'R3': r3, 'R4': r4, 'Total strokes': total_strokes, 'Status' : round_status}\n",
    "df = pd.DataFrame(pga_dict)\n",
    "# df.to_csv('pga_champ_24')"
   ]
  },
  {
   "cell_type": "code",
   "execution_count": 6,
   "id": "37f8027a-2598-4179-90a7-9cb88d6a965f",
   "metadata": {},
   "outputs": [
    {
     "data": {
      "text/html": [
       "<div>\n",
       "<style scoped>\n",
       "    .dataframe tbody tr th:only-of-type {\n",
       "        vertical-align: middle;\n",
       "    }\n",
       "\n",
       "    .dataframe tbody tr th {\n",
       "        vertical-align: top;\n",
       "    }\n",
       "\n",
       "    .dataframe thead th {\n",
       "        text-align: right;\n",
       "    }\n",
       "</style>\n",
       "<table border=\"1\" class=\"dataframe\">\n",
       "  <thead>\n",
       "    <tr style=\"text-align: right;\">\n",
       "      <th></th>\n",
       "      <th>Unnamed: 0</th>\n",
       "      <th>Name</th>\n",
       "      <th>Country</th>\n",
       "      <th>Position</th>\n",
       "      <th>Total score</th>\n",
       "      <th>R1</th>\n",
       "      <th>R2</th>\n",
       "      <th>R3</th>\n",
       "      <th>R4</th>\n",
       "      <th>Total strokes</th>\n",
       "      <th>Status</th>\n",
       "    </tr>\n",
       "  </thead>\n",
       "  <tbody>\n",
       "    <tr>\n",
       "      <th>0</th>\n",
       "      <td>0</td>\n",
       "      <td>Xander Schauffele</td>\n",
       "      <td>USA</td>\n",
       "      <td>1</td>\n",
       "      <td>-21</td>\n",
       "      <td>62</td>\n",
       "      <td>68</td>\n",
       "      <td>68</td>\n",
       "      <td>65</td>\n",
       "      <td>263</td>\n",
       "      <td>R4 Completed</td>\n",
       "    </tr>\n",
       "    <tr>\n",
       "      <th>1</th>\n",
       "      <td>1</td>\n",
       "      <td>Bryson DeChambeau</td>\n",
       "      <td>USA</td>\n",
       "      <td>2</td>\n",
       "      <td>-20</td>\n",
       "      <td>68</td>\n",
       "      <td>65</td>\n",
       "      <td>67</td>\n",
       "      <td>64</td>\n",
       "      <td>264</td>\n",
       "      <td>R4 Completed</td>\n",
       "    </tr>\n",
       "    <tr>\n",
       "      <th>2</th>\n",
       "      <td>2</td>\n",
       "      <td>Viktor Hovland</td>\n",
       "      <td>NOR</td>\n",
       "      <td>3</td>\n",
       "      <td>-18</td>\n",
       "      <td>68</td>\n",
       "      <td>66</td>\n",
       "      <td>66</td>\n",
       "      <td>66</td>\n",
       "      <td>266</td>\n",
       "      <td>R4 Completed</td>\n",
       "    </tr>\n",
       "    <tr>\n",
       "      <th>3</th>\n",
       "      <td>3</td>\n",
       "      <td>Thomas Detry</td>\n",
       "      <td>BEL</td>\n",
       "      <td>T4</td>\n",
       "      <td>-15</td>\n",
       "      <td>66</td>\n",
       "      <td>67</td>\n",
       "      <td>70</td>\n",
       "      <td>66</td>\n",
       "      <td>269</td>\n",
       "      <td>R4 Completed</td>\n",
       "    </tr>\n",
       "    <tr>\n",
       "      <th>4</th>\n",
       "      <td>4</td>\n",
       "      <td>Collin Morikawa</td>\n",
       "      <td>USA</td>\n",
       "      <td>T4</td>\n",
       "      <td>-15</td>\n",
       "      <td>66</td>\n",
       "      <td>65</td>\n",
       "      <td>67</td>\n",
       "      <td>71</td>\n",
       "      <td>269</td>\n",
       "      <td>R4 Completed</td>\n",
       "    </tr>\n",
       "    <tr>\n",
       "      <th>...</th>\n",
       "      <td>...</td>\n",
       "      <td>...</td>\n",
       "      <td>...</td>\n",
       "      <td>...</td>\n",
       "      <td>...</td>\n",
       "      <td>...</td>\n",
       "      <td>...</td>\n",
       "      <td>...</td>\n",
       "      <td>...</td>\n",
       "      <td>...</td>\n",
       "      <td>...</td>\n",
       "    </tr>\n",
       "    <tr>\n",
       "      <th>151</th>\n",
       "      <td>151</td>\n",
       "      <td>Jeff Kellen</td>\n",
       "      <td>USA</td>\n",
       "      <td>CUT</td>\n",
       "      <td>+17</td>\n",
       "      <td>87</td>\n",
       "      <td>72</td>\n",
       "      <td>-</td>\n",
       "      <td>-</td>\n",
       "      <td>159</td>\n",
       "      <td>R2 Completed</td>\n",
       "    </tr>\n",
       "    <tr>\n",
       "      <th>152</th>\n",
       "      <td>152</td>\n",
       "      <td>Rich Beem</td>\n",
       "      <td>USA</td>\n",
       "      <td>CUT</td>\n",
       "      <td>+20</td>\n",
       "      <td>79</td>\n",
       "      <td>83</td>\n",
       "      <td>-</td>\n",
       "      <td>-</td>\n",
       "      <td>162</td>\n",
       "      <td>R2 Completed</td>\n",
       "    </tr>\n",
       "    <tr>\n",
       "      <th>153</th>\n",
       "      <td>153</td>\n",
       "      <td>John Daly</td>\n",
       "      <td>USA</td>\n",
       "      <td>WD</td>\n",
       "      <td>-</td>\n",
       "      <td>82</td>\n",
       "      <td>-</td>\n",
       "      <td>-</td>\n",
       "      <td>-</td>\n",
       "      <td>82</td>\n",
       "      <td>Withdrew</td>\n",
       "    </tr>\n",
       "    <tr>\n",
       "      <th>154</th>\n",
       "      <td>154</td>\n",
       "      <td>Ben Griffin</td>\n",
       "      <td>USA</td>\n",
       "      <td>WD</td>\n",
       "      <td>-</td>\n",
       "      <td>73</td>\n",
       "      <td>65</td>\n",
       "      <td>-</td>\n",
       "      <td>-</td>\n",
       "      <td>138</td>\n",
       "      <td>Withdrew</td>\n",
       "    </tr>\n",
       "    <tr>\n",
       "      <th>155</th>\n",
       "      <td>155</td>\n",
       "      <td>K.H. Lee</td>\n",
       "      <td>KOR</td>\n",
       "      <td>WD</td>\n",
       "      <td>-</td>\n",
       "      <td>74</td>\n",
       "      <td>66</td>\n",
       "      <td>-</td>\n",
       "      <td>-</td>\n",
       "      <td>140</td>\n",
       "      <td>Withdrew</td>\n",
       "    </tr>\n",
       "  </tbody>\n",
       "</table>\n",
       "<p>156 rows × 11 columns</p>\n",
       "</div>"
      ],
      "text/plain": [
       "     Unnamed: 0               Name Country Position Total score  R1  R2  R3  \\\n",
       "0             0  Xander Schauffele     USA        1         -21  62  68  68   \n",
       "1             1  Bryson DeChambeau     USA        2         -20  68  65  67   \n",
       "2             2     Viktor Hovland     NOR        3         -18  68  66  66   \n",
       "3             3       Thomas Detry     BEL       T4         -15  66  67  70   \n",
       "4             4    Collin Morikawa     USA       T4         -15  66  65  67   \n",
       "..          ...                ...     ...      ...         ...  ..  ..  ..   \n",
       "151         151        Jeff Kellen     USA      CUT         +17  87  72   -   \n",
       "152         152          Rich Beem     USA      CUT         +20  79  83   -   \n",
       "153         153          John Daly     USA       WD           -  82   -   -   \n",
       "154         154        Ben Griffin     USA       WD           -  73  65   -   \n",
       "155         155           K.H. Lee     KOR       WD           -  74  66   -   \n",
       "\n",
       "     R4  Total strokes        Status  \n",
       "0    65            263  R4 Completed  \n",
       "1    64            264  R4 Completed  \n",
       "2    66            266  R4 Completed  \n",
       "3    66            269  R4 Completed  \n",
       "4    71            269  R4 Completed  \n",
       "..   ..            ...           ...  \n",
       "151   -            159  R2 Completed  \n",
       "152   -            162  R2 Completed  \n",
       "153   -             82      Withdrew  \n",
       "154   -            138      Withdrew  \n",
       "155   -            140      Withdrew  \n",
       "\n",
       "[156 rows x 11 columns]"
      ]
     },
     "execution_count": 6,
     "metadata": {},
     "output_type": "execute_result"
    }
   ],
   "source": [
    "df"
   ]
  },
  {
   "cell_type": "markdown",
   "id": "00892c5a-4ed2-484f-b4bf-e9ad6cfd58c5",
   "metadata": {},
   "source": [
    "# Create hole by hole dfs"
   ]
  },
  {
   "cell_type": "code",
   "execution_count": 251,
   "id": "7630490d-93e6-4dc7-82ae-6207a16f19bf",
   "metadata": {},
   "outputs": [],
   "source": [
    "# Create dictionary with hole by hole data using nested list comprehension\n",
    "\n",
    "# Set up column names and par series\n",
    "names_countries_dict = {\"Name\": names, \"Country\": countries}\n",
    "player_df = pd.DataFrame(names_countries_dict)\n",
    "col_names = [elem for elem in holes]\n",
    "col_names_add = [\"Name\",\"Country\"]\n",
    "col_names_all = col_names_add + col_names\n",
    "par_df = pd.DataFrame(par_scores, columns = col_names_all)\n",
    "\n",
    "# Round 1\n",
    "holes_1_dict = {str(hole): [r1_scores[player][hole-1] for player in range(len(r1_scores))] for hole in range(1,19)}\n",
    "df_holes_1 = pd.DataFrame(holes_1_dict)\n",
    "round_1_hbh = pd.concat([player_df, df_holes_1], axis = 1)\n",
    "round_1 = pd.concat([par_df, round_1_hbh,], axis = 0)\n",
    "# round_1.to_csv('round_1_hbh')\n",
    "\n",
    "# Round 2\n",
    "holes_2_dict = {str(hole): [r2_scores[player][hole-1] for player in range(len(r2_scores))] for hole in range(1,19)}\n",
    "df_holes_2 = pd.DataFrame(holes_2_dict)\n",
    "round_2_hbh = pd.concat([player_df, df_holes_2], axis = 1)\n",
    "round_2 = pd.concat([par_df, round_2_hbh,], axis = 0)\n",
    "# round_2.to_csv('round_2_hbh')\n",
    "\n",
    "# Round 3\n",
    "holes_3_dict = {str(hole): [r3_scores[player][hole-1] for player in range(len(r3_scores))] for hole in range(1,19)}\n",
    "df_holes_3 = pd.DataFrame(holes_3_dict)\n",
    "round_3_hbh = pd.concat([player_df, df_holes_3], axis = 1)\n",
    "round_3 = pd.concat([par_df, round_3_hbh,], axis = 0)\n",
    "# round_3.to_csv('round_3_hbh')\n",
    "\n",
    "# Round 4\n",
    "holes_4_dict = {str(hole): [r4_scores[player][hole-1] for player in range(len(r4_scores))] for hole in range(1,19)}\n",
    "df_holes_4 = pd.DataFrame(holes_4_dict)\n",
    "round_4_hbh = pd.concat([player_df, df_holes_4], axis = 1)\n",
    "round_4 = pd.concat([par_df, round_4_hbh,], axis = 0)\n",
    "# round_4.to_csv('round_4_hbh')"
   ]
  }
 ],
 "metadata": {
  "kernelspec": {
   "display_name": "Python 3 (ipykernel)",
   "language": "python",
   "name": "python3"
  },
  "language_info": {
   "codemirror_mode": {
    "name": "ipython",
    "version": 3
   },
   "file_extension": ".py",
   "mimetype": "text/x-python",
   "name": "python",
   "nbconvert_exporter": "python",
   "pygments_lexer": "ipython3",
   "version": "3.11.7"
  }
 },
 "nbformat": 4,
 "nbformat_minor": 5
}
